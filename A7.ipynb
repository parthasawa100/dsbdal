{
 "cells": [
  {
   "cell_type": "code",
   "execution_count": 1,
   "id": "fc58df32-1188-4d84-9802-29931d6804ec",
   "metadata": {},
   "outputs": [
    {
     "name": "stderr",
     "output_type": "stream",
     "text": [
      "[nltk_data] Downloading package stopwords to /home/parth/nltk_data...\n",
      "[nltk_data]   Package stopwords is already up-to-date!\n",
      "[nltk_data] Downloading package averaged_perceptron_tagger to\n",
      "[nltk_data]     /home/parth/nltk_data...\n",
      "[nltk_data]   Package averaged_perceptron_tagger is already up-to-\n",
      "[nltk_data]       date!\n",
      "[nltk_data] Downloading package wordnet to /home/parth/nltk_data...\n",
      "[nltk_data]   Package wordnet is already up-to-date!\n",
      "[nltk_data] Downloading package punkt to /home/parth/nltk_data...\n",
      "[nltk_data]   Package punkt is already up-to-date!\n"
     ]
    }
   ],
   "source": [
    "import nltk\n",
    "nltk.download('stopwords')\n",
    "nltk.download('averaged_perceptron_tagger')\n",
    "nltk.download('wordnet')\n",
    "nltk.download('punkt')\n",
    "from nltk.corpus import stopwords\n",
    "from nltk.tokenize import word_tokenize, sent_tokenize\n",
    "from nltk.stem import PorterStemmer, WordNetLemmatizer\n",
    "from nltk import pos_tag"
   ]
  },
  {
   "cell_type": "code",
   "execution_count": 2,
   "id": "601286fb-bc92-4adf-b832-bc12766a707c",
   "metadata": {},
   "outputs": [],
   "source": [
    "sentence1 = \"Stemming and lemmatization are different techniques used to reduce words to their root form, but they produce varying results. Lemmatization is better than stemming\""
   ]
  },
  {
   "cell_type": "code",
   "execution_count": 3,
   "id": "56025170-a61a-4482-a684-c8d8e1b8001c",
   "metadata": {},
   "outputs": [
    {
     "data": {
      "text/plain": [
       "['stemming',\n",
       " 'and',\n",
       " 'lemmatization',\n",
       " 'are',\n",
       " 'different',\n",
       " 'techniques',\n",
       " 'used',\n",
       " 'to',\n",
       " 'reduce',\n",
       " 'words',\n",
       " 'to',\n",
       " 'their',\n",
       " 'root',\n",
       " 'form',\n",
       " 'but',\n",
       " 'they',\n",
       " 'produce',\n",
       " 'varying',\n",
       " 'results',\n",
       " 'lemmatization',\n",
       " 'is',\n",
       " 'better',\n",
       " 'than',\n",
       " 'stemming']"
      ]
     },
     "execution_count": 3,
     "metadata": {},
     "output_type": "execute_result"
    }
   ],
   "source": [
    "import string\n",
    "def Tokenise(sentence: str):\n",
    "    punctuation = string.punctuation + '[]{}()<>'\n",
    "    for char in punctuation:\n",
    "        sentence= sentence.replace(char,\" \")\n",
    "    sentence =sentence.lower()\n",
    "    tokens = sentence.split()\n",
    "    return tokens\n",
    "tokens = Tokenise(sentence1)\n",
    "tokens"
   ]
  },
  {
   "cell_type": "code",
   "execution_count": 4,
   "id": "77799fe2-58ec-4190-9d92-14d10084a3b7",
   "metadata": {},
   "outputs": [
    {
     "data": {
      "text/plain": [
       "['stemming',\n",
       " 'lemmatization',\n",
       " 'different',\n",
       " 'techniques',\n",
       " 'used',\n",
       " 'reduce',\n",
       " 'words',\n",
       " 'root',\n",
       " 'form',\n",
       " 'produce',\n",
       " 'varying',\n",
       " 'results',\n",
       " 'lemmatization',\n",
       " 'better',\n",
       " 'stemming']"
      ]
     },
     "execution_count": 4,
     "metadata": {},
     "output_type": "execute_result"
    }
   ],
   "source": [
    "def RemoveStopWord(token):\n",
    "    stop_words = set(stopwords.words('english'))\n",
    "    filtered_sentence = [word for word in token if not word in stop_words]\n",
    "    return filtered_sentence\n",
    "\n",
    "tokens =  RemoveStopWord(tokens)\n",
    "tokens"
   ]
  },
  {
   "cell_type": "code",
   "execution_count": 5,
   "id": "85d31d9d-d2e8-42c7-b14f-e637d79a6776",
   "metadata": {},
   "outputs": [
    {
     "data": {
      "text/plain": [
       "[('stemming', 'VBG'),\n",
       " ('lemmatization', 'NN'),\n",
       " ('different', 'JJ'),\n",
       " ('techniques', 'NNS'),\n",
       " ('used', 'VBN'),\n",
       " ('reduce', 'VB'),\n",
       " ('words', 'NNS'),\n",
       " ('root', 'VBP'),\n",
       " ('form', 'NN'),\n",
       " ('produce', 'VBP'),\n",
       " ('varying', 'VBG'),\n",
       " ('results', 'NNS'),\n",
       " ('lemmatization', 'NN'),\n",
       " ('better', 'RBR'),\n",
       " ('stemming', 'NN')]"
      ]
     },
     "execution_count": 5,
     "metadata": {},
     "output_type": "execute_result"
    }
   ],
   "source": [
    "pos_tag_list = nltk.pos_tag(tokens)\n",
    "pos_tag_list"
   ]
  },
  {
   "cell_type": "code",
   "execution_count": 6,
   "id": "0f8bf3b2-3a48-4aff-87f9-08b8518651a2",
   "metadata": {},
   "outputs": [
    {
     "name": "stdout",
     "output_type": "stream",
     "text": [
      "Stemmer Word\n",
      "stemming= stem\n",
      "lemmatization= lemmat\n",
      "different= differ\n",
      "techniques= techniqu\n",
      "used= use\n",
      "reduce= reduc\n",
      "words= word\n",
      "root= root\n",
      "form= form\n",
      "produce= produc\n",
      "varying= vari\n",
      "results= result\n",
      "lemmatization= lemmat\n",
      "better= better\n",
      "stemming= stem\n"
     ]
    }
   ],
   "source": [
    "stemmer = PorterStemmer()\n",
    "print(\"Stemmer Word\")\n",
    "for w in tokens:\n",
    "    print(f\"{w }= {stemmer.stem(w)}\")"
   ]
  },
  {
   "cell_type": "code",
   "execution_count": 7,
   "id": "55f1d9b7-1c96-468d-86ea-358d463a4c73",
   "metadata": {},
   "outputs": [
    {
     "name": "stdout",
     "output_type": "stream",
     "text": [
      "stemming = stemming\n",
      "lemmatization = lemmatization\n",
      "different = different\n",
      "techniques = technique\n",
      "used = used\n",
      "reduce = reduce\n",
      "words = word\n",
      "root = root\n",
      "form = form\n",
      "produce = produce\n",
      "varying = varying\n",
      "results = result\n",
      "lemmatization = lemmatization\n",
      "better = better\n",
      "stemming = stemming\n"
     ]
    }
   ],
   "source": [
    "lemmatizer = WordNetLemmatizer()\n",
    "for w in tokens:\n",
    "    print(f\"{w} = {lemmatizer.lemmatize(w)}\")"
   ]
  },
  {
   "cell_type": "code",
   "execution_count": 8,
   "id": "e9e312b1-e304-46c0-a2aa-214654785643",
   "metadata": {},
   "outputs": [
    {
     "data": {
      "text/plain": [
       "{'stemming': 0.13333333333333333,\n",
       " 'lemmatization': 0.13333333333333333,\n",
       " 'different': 0.06666666666666667,\n",
       " 'techniques': 0.06666666666666667,\n",
       " 'used': 0.06666666666666667,\n",
       " 'reduce': 0.06666666666666667,\n",
       " 'words': 0.06666666666666667,\n",
       " 'root': 0.06666666666666667,\n",
       " 'form': 0.06666666666666667,\n",
       " 'produce': 0.06666666666666667,\n",
       " 'varying': 0.06666666666666667,\n",
       " 'results': 0.06666666666666667,\n",
       " 'better': 0.06666666666666667}"
      ]
     },
     "execution_count": 8,
     "metadata": {},
     "output_type": "execute_result"
    }
   ],
   "source": [
    "def calculateTF(token):\n",
    "    token_freq = {}\n",
    "    for w in token:\n",
    "        if w not in token_freq:\n",
    "            token_freq[w] = token.count(w)/len(token)\n",
    "    return token_freq\n",
    "\n",
    "calculateTF(tokens)"
   ]
  },
  {
   "cell_type": "code",
   "execution_count": 9,
   "id": "7dbe2f85-929a-4e9d-8a23-08326daa420f",
   "metadata": {},
   "outputs": [
    {
     "name": "stdout",
     "output_type": "stream",
     "text": [
      "{'but': 1, 'to': 1, 'stemming': 2, 'and': 1, 'produce': 1, 'different': 1, 'techniques': 1, 'varying': 1, 'reduce': 1, 'used': 1, 'than': 1, 'words': 1, 'are': 1, 'better': 1, 'results': 1, 'lemmatization': 2, 'is': 1, 'root': 1, 'form': 1, 'they': 1, 'their': 1}\n"
     ]
    }
   ],
   "source": [
    "def calculateTF_IDF(documents):\n",
    "    documents = sent_tokenize(documents)\n",
    "    document_map = {}\n",
    "    document_tf = {}\n",
    "    unique_word = set()\n",
    "    word_idf = {}\n",
    "    for i, document in enumerate(documents):\n",
    "        tokeniseWords = Tokenise(document)\n",
    "        document_map[i] = tokeniseWords\n",
    "        document_tf[i] = calculateTF(tokeniseWords)\n",
    "        for words in tokeniseWords:\n",
    "            unique_word.add(words)\n",
    "    for word in unique_word:\n",
    "        count = 0;\n",
    "        for _, tokeniseWords in document_map.items():\n",
    "            if word in tokeniseWords:\n",
    "                count+=1\n",
    "        word_idf[word] = count\n",
    "    return word_idf, document_tf\n",
    "    \n",
    "word_idf, document_tf = calculateTF_IDF(sentence1)\n",
    "print(word_idf)\n",
    "# print(document_tf)"
   ]
  }
 ],
 "metadata": {
  "kernelspec": {
   "display_name": "venv",
   "language": "python",
   "name": "venv"
  },
  "language_info": {
   "codemirror_mode": {
    "name": "ipython",
    "version": 3
   },
   "file_extension": ".py",
   "mimetype": "text/x-python",
   "name": "python",
   "nbconvert_exporter": "python",
   "pygments_lexer": "ipython3",
   "version": "3.10.9"
  }
 },
 "nbformat": 4,
 "nbformat_minor": 5
}
