{
 "cells": [
  {
   "cell_type": "code",
   "execution_count": 1,
   "id": "c2d109f6-bfd2-4aaf-9449-9542963fd5df",
   "metadata": {},
   "outputs": [
    {
     "name": "stderr",
     "output_type": "stream",
     "text": [
      "[nltk_data] Downloading package stopwords to /home/parth/nltk_data...\n",
      "[nltk_data]   Package stopwords is already up-to-date!\n"
     ]
    }
   ],
   "source": [
    "import nltk\n",
    "nltk.download('stopwords')\n",
    "from nltk.corpus import stopwords\n",
    "from nltk.tokenize import word_tokenize, sent_tokenize\n",
    "from nltk.stem import PorterStemmer, WordNetLemmatizer\n",
    "from nltk import pos_tag"
   ]
  },
  {
   "cell_type": "code",
   "execution_count": 2,
   "id": "9cd89d04-a44d-4edc-9646-06572ab9ed59",
   "metadata": {},
   "outputs": [],
   "source": [
    "sentence1 = \"Stemming and lemmatization are different techniques used to reduce words to their root form, but they produce varying results. Lemmatization is better than stemming\""
   ]
  },
  {
   "cell_type": "code",
   "execution_count": 3,
   "id": "7e2e0d92-9ec2-4490-9488-bb67a1ddbd41",
   "metadata": {},
   "outputs": [],
   "source": [
    "import string\n",
    "def tokenize(sentence : str):\n",
    "    punctuation = string.punctuation + '[]{}()<>'\n",
    "    for char in punctuation:\n",
    "        sentence = sentence.replace(char, \" \")\n",
    "    sentence = sentence.lower()\n",
    "    token = sentence.split()\n",
    "    return token\n",
    "\n",
    "tokens = tokenize(sentence1)"
   ]
  },
  {
   "cell_type": "code",
   "execution_count": null,
   "id": "ecd8de2f-e3a4-4949-8991-e3f4f97f8676",
   "metadata": {},
   "outputs": [],
   "source": []
  },
  {
   "cell_type": "code",
   "execution_count": 4,
   "id": "594a4661-3926-47f1-82f1-2248f881e3e3",
   "metadata": {},
   "outputs": [
    {
     "data": {
      "text/plain": [
       "['stemming',\n",
       " 'lemmatization',\n",
       " 'different',\n",
       " 'techniques',\n",
       " 'used',\n",
       " 'reduce',\n",
       " 'words',\n",
       " 'root',\n",
       " 'form',\n",
       " 'produce',\n",
       " 'varying',\n",
       " 'results',\n",
       " 'lemmatization',\n",
       " 'better',\n",
       " 'stemming']"
      ]
     },
     "execution_count": 4,
     "metadata": {},
     "output_type": "execute_result"
    }
   ],
   "source": [
    "def RemoveStopWord(token):\n",
    "    stop_words = set(stopwords.words('english'))\n",
    "    filtered_sentence = [word for word in token if not word in stop_words]\n",
    "    return filtered_sentence\n",
    "\n",
    "tokens = RemoveStopWord(tokens)\n",
    "tokens"
   ]
  },
  {
   "cell_type": "code",
   "execution_count": 5,
   "id": "52e72b22-b8f0-4fcb-87b5-20432a0c24a1",
   "metadata": {},
   "outputs": [
    {
     "data": {
      "text/plain": [
       "[('stemming', 'VBG'),\n",
       " ('lemmatization', 'NN'),\n",
       " ('different', 'JJ'),\n",
       " ('techniques', 'NNS'),\n",
       " ('used', 'VBN'),\n",
       " ('reduce', 'VB'),\n",
       " ('words', 'NNS'),\n",
       " ('root', 'VBP'),\n",
       " ('form', 'NN'),\n",
       " ('produce', 'VBP'),\n",
       " ('varying', 'VBG'),\n",
       " ('results', 'NNS'),\n",
       " ('lemmatization', 'NN'),\n",
       " ('better', 'RBR'),\n",
       " ('stemming', 'NN')]"
      ]
     },
     "execution_count": 5,
     "metadata": {},
     "output_type": "execute_result"
    }
   ],
   "source": [
    "pos_tag_list = nltk.pos_tag(tokens)\n",
    "pos_tag_list"
   ]
  },
  {
   "cell_type": "code",
   "execution_count": 6,
   "id": "66e627e6-585c-4150-9bf0-448bcde8bd34",
   "metadata": {},
   "outputs": [
    {
     "name": "stdout",
     "output_type": "stream",
     "text": [
      "stemming stem\n",
      "lemmatization lemmat\n",
      "different differ\n",
      "techniques techniqu\n",
      "used use\n",
      "reduce reduc\n",
      "words word\n",
      "root root\n",
      "form form\n",
      "produce produc\n",
      "varying vari\n",
      "results result\n",
      "lemmatization lemmat\n",
      "better better\n",
      "stemming stem\n"
     ]
    }
   ],
   "source": [
    "stemmer = PorterStemmer()\n",
    "for w in tokens:\n",
    "    print(w, stemmer.stem(w))"
   ]
  },
  {
   "cell_type": "code",
   "execution_count": 7,
   "id": "e69194ff-8cf3-42b6-8e81-c71e67c2c810",
   "metadata": {},
   "outputs": [
    {
     "name": "stdout",
     "output_type": "stream",
     "text": [
      "stemming stemming\n",
      "lemmatization lemmatization\n",
      "different different\n",
      "techniques technique\n",
      "used used\n",
      "reduce reduce\n",
      "words word\n",
      "root root\n",
      "form form\n",
      "produce produce\n",
      "varying varying\n",
      "results result\n",
      "lemmatization lemmatization\n",
      "better better\n",
      "stemming stemming\n"
     ]
    }
   ],
   "source": [
    "lemmatizer = WordNetLemmatizer()\n",
    "for w in tokens:\n",
    "    print(w, lemmatizer.lemmatize(w))"
   ]
  },
  {
   "cell_type": "code",
   "execution_count": 8,
   "id": "505ef936-5372-4ef9-bce0-7eb5468459bf",
   "metadata": {},
   "outputs": [
    {
     "data": {
      "text/plain": [
       "{'stemming': 0.13333333333333333,\n",
       " 'lemmatization': 0.13333333333333333,\n",
       " 'different': 0.06666666666666667,\n",
       " 'techniques': 0.06666666666666667,\n",
       " 'used': 0.06666666666666667,\n",
       " 'reduce': 0.06666666666666667,\n",
       " 'words': 0.06666666666666667,\n",
       " 'root': 0.06666666666666667,\n",
       " 'form': 0.06666666666666667,\n",
       " 'produce': 0.06666666666666667,\n",
       " 'varying': 0.06666666666666667,\n",
       " 'results': 0.06666666666666667,\n",
       " 'better': 0.06666666666666667}"
      ]
     },
     "execution_count": 8,
     "metadata": {},
     "output_type": "execute_result"
    }
   ],
   "source": [
    "def calculateTF(token):\n",
    "    token_freq = {}\n",
    "    for w in token:\n",
    "        if w not in token_freq:\n",
    "            token_freq[w] = token.count(w)/len(token)\n",
    "    return token_freq\n",
    "\n",
    "calculateTF(tokens)"
   ]
  },
  {
   "cell_type": "code",
   "execution_count": 10,
   "id": "d0503b1a-4bd0-4d60-8fe8-11ea945a5bea",
   "metadata": {},
   "outputs": [
    {
     "name": "stdout",
     "output_type": "stream",
     "text": [
      "{'than': 1, 'results': 1, 'different': 1, 'used': 1, 'their': 1, 'produce': 1, 'stemming': 2, 'varying': 1, 'root': 1, 'lemmatization': 2, 'better': 1, 'is': 1, 'and': 1, 'to': 1, 'words': 1, 'techniques': 1, 'they': 1, 'are': 1, 'but': 1, 'reduce': 1, 'form': 1}\n"
     ]
    }
   ],
   "source": [
    "def calculateTF_IDF(documents):\n",
    "    documents = sent_tokenize(documents)\n",
    "    document_map ={}\n",
    "    document_tf = {}\n",
    "    unique_word = set()\n",
    "    word_idf = {}\n",
    "    for i, document in enumerate(documents):\n",
    "        tokeniseWords = tokenize(document)\n",
    "        document_map[i] = tokeniseWords\n",
    "        document_tf[i] = calculateTF(tokeniseWords)\n",
    "        for words in tokeniseWords:\n",
    "            unique_word.add(words)\n",
    "    for word in unique_word:\n",
    "        count = 0\n",
    "        for _, tokeniseWords in document_map.items():\n",
    "            if word in tokeniseWords:\n",
    "                count+=1\n",
    "        word_idf[word] = count\n",
    "    return word_idf, document_tf\n",
    "    \n",
    "word_idf, document_tf = calculateTF_IDF(sentence1)\n",
    "print(word_idf)"
   ]
  },
  {
   "cell_type": "code",
   "execution_count": null,
   "id": "0631ff96-c0dd-47ce-821b-c43e4115b48e",
   "metadata": {},
   "outputs": [],
   "source": []
  },
  {
   "cell_type": "code",
   "execution_count": null,
   "id": "bfa2dcbf-e210-43c1-bccc-40856a8c41ad",
   "metadata": {},
   "outputs": [],
   "source": []
  },
  {
   "cell_type": "code",
   "execution_count": null,
   "id": "a664a885-701b-4a5a-92e1-fecc189d637e",
   "metadata": {},
   "outputs": [],
   "source": []
  },
  {
   "cell_type": "code",
   "execution_count": null,
   "id": "17bb420b-48ca-475f-9be0-f7f6ad15c1b1",
   "metadata": {},
   "outputs": [],
   "source": []
  },
  {
   "cell_type": "code",
   "execution_count": null,
   "id": "4621b757-e8ee-49f8-98aa-0279b74596a6",
   "metadata": {},
   "outputs": [],
   "source": []
  },
  {
   "cell_type": "code",
   "execution_count": null,
   "id": "5c311574-f709-4614-8984-bbcef9a1f040",
   "metadata": {},
   "outputs": [],
   "source": []
  }
 ],
 "metadata": {
  "kernelspec": {
   "display_name": "venv",
   "language": "python",
   "name": "venv"
  },
  "language_info": {
   "codemirror_mode": {
    "name": "ipython",
    "version": 3
   },
   "file_extension": ".py",
   "mimetype": "text/x-python",
   "name": "python",
   "nbconvert_exporter": "python",
   "pygments_lexer": "ipython3",
   "version": "3.10.9"
  }
 },
 "nbformat": 4,
 "nbformat_minor": 5
}
